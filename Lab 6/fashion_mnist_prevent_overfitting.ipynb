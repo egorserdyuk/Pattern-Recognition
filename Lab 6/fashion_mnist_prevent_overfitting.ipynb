{
 "cells": [
  {
   "cell_type": "markdown",
   "metadata": {
    "id": "V5pBTSpD11kj"
   },
   "source": [
    "*Примечание*. Частично используется код Андрея Созыкина"
   ]
  },
  {
   "cell_type": "markdown",
   "metadata": {
    "id": "Ah7dy1kFL2H9"
   },
   "source": [
    "# Использование нейронной сети для распознавания моделей одежды в Keras\n"
   ]
  },
  {
   "cell_type": "markdown",
   "metadata": {
    "id": "PLNaFTe-zOcd"
   },
   "source": [
    "Keras — открытая нейросетевая библиотека, написанная на языке Python. Она представляет собой надстройку над фреймворками TensorFlow + Theano и нацелена на оперативную работу с сетями глубокого обучения."
   ]
  },
  {
   "cell_type": "code",
   "execution_count": null,
   "metadata": {
    "id": "qrfd6FzSLrE2"
   },
   "outputs": [],
   "source": [
    "from tensorflow.keras.datasets import mnist\n",
    "from tensorflow.keras.models import Sequential\n",
    "from tensorflow.keras.layers import Dense\n",
    "from tensorflow.keras import utils\n",
    "from tensorflow.keras.preprocessing import image\n",
    "import numpy as np\n",
    "import matplotlib.pyplot as plt\n",
    "from PIL import Image\n",
    "%matplotlib inline "
   ]
  },
  {
   "cell_type": "markdown",
   "metadata": {
    "id": "xiurjCBVMDTG"
   },
   "source": [
    "## Подготовка данных для обучения сети"
   ]
  },
  {
   "cell_type": "markdown",
   "metadata": {
    "id": "1yDF75Cx8VPz"
   },
   "source": [
    "**Загружаем набор данных**"
   ]
  },
  {
   "cell_type": "code",
   "execution_count": null,
   "metadata": {
    "id": "E5L3LUIi8PDV"
   },
   "outputs": [],
   "source": [
    "# В Keras встроены средства работы с популярными наборами данных\n",
    "# (x_train, y_train) - набор данных для обучения\n",
    "# (x_test, y_test) - набор данных для тестирования\n",
    "(x_train, y_train), (x_test, y_test) = mnist.load_data()"
   ]
  },
  {
   "cell_type": "markdown",
   "metadata": {
    "id": "pInj9ORInZGV"
   },
   "source": [
    "Список с названиями классов"
   ]
  },
  {
   "cell_type": "code",
   "execution_count": null,
   "metadata": {
    "id": "90LpN34CnXwW"
   },
   "outputs": [],
   "source": [
    "classes = ['0', '1', '2', '3', '4', '5', '6', '7', '8', '9']"
   ]
  },
  {
   "cell_type": "markdown",
   "metadata": {
    "id": "nzysANKIZTzU"
   },
   "source": [
    "Просматриваем примеры изображений"
   ]
  },
  {
   "cell_type": "code",
   "execution_count": null,
   "metadata": {
    "id": "Wl4k_OPybdqL"
   },
   "outputs": [],
   "source": [
    "plt.figure(figsize=(10,10))\n",
    "for i in range(100,150):\n",
    "    plt.subplot(5,10,i-100+1)\n",
    "    plt.xticks([])\n",
    "    plt.yticks([])\n",
    "    plt.grid(False)\n",
    "    plt.imshow(x_train[i], cmap=plt.cm.binary)\n",
    "    plt.xlabel(classes[y_train[i]])"
   ]
  },
  {
   "cell_type": "markdown",
   "metadata": {
    "id": "7uXTnIojJLbl"
   },
   "source": [
    "**Преобразование размерности данных в наборе**"
   ]
  },
  {
   "cell_type": "code",
   "execution_count": null,
   "metadata": {
    "id": "GBAqLKjGJJ-V"
   },
   "outputs": [],
   "source": [
    "x_train = x_train.reshape(60000, 784)\n",
    "x_test = x_test.reshape(10000, 784)"
   ]
  },
  {
   "cell_type": "markdown",
   "metadata": {
    "id": "hDaHO5LgJYxU"
   },
   "source": [
    "**Нормализация данных**"
   ]
  },
  {
   "cell_type": "code",
   "execution_count": null,
   "metadata": {
    "id": "rscaAuBNJdq9"
   },
   "outputs": [],
   "source": [
    "# Векторизованные операции\n",
    "# Применяются к каждому элементу массива отдельно\n",
    "x_train = x_train / 255 \n",
    "x_test = x_test / 255 "
   ]
  },
  {
   "cell_type": "markdown",
   "metadata": {
    "id": "KRcMlNzqJk1t"
   },
   "source": [
    "**Работа с правильными ответами**"
   ]
  },
  {
   "cell_type": "code",
   "execution_count": null,
   "metadata": {
    "id": "2lk4EnxqdRC9"
   },
   "outputs": [],
   "source": [
    "n = 0"
   ]
  },
  {
   "cell_type": "code",
   "execution_count": null,
   "metadata": {
    "id": "A5lKe_syJqPu"
   },
   "outputs": [],
   "source": [
    "print(y_train[n])"
   ]
  },
  {
   "cell_type": "markdown",
   "metadata": {
    "id": "zqJ9GA1kJxBF"
   },
   "source": [
    "**Преобразуем метки в формат one hot encoding**"
   ]
  },
  {
   "cell_type": "code",
   "execution_count": null,
   "metadata": {
    "id": "zQnasUyyJ3cG"
   },
   "outputs": [],
   "source": [
    "y_train = utils.to_categorical(y_train, 10)"
   ]
  },
  {
   "cell_type": "code",
   "execution_count": null,
   "metadata": {
    "id": "F2mEQ0i8sWEC"
   },
   "outputs": [],
   "source": [
    "y_test = utils.to_categorical(y_test, 10)"
   ]
  },
  {
   "cell_type": "markdown",
   "metadata": {
    "id": "KfuqlyjHJ_ye"
   },
   "source": [
    "**Правильный ответ в формате one hot encoding**"
   ]
  },
  {
   "cell_type": "code",
   "execution_count": null,
   "metadata": {
    "id": "9zUfd1aeKH3e"
   },
   "outputs": [],
   "source": [
    "print(y_train[n])"
   ]
  },
  {
   "cell_type": "markdown",
   "metadata": {
    "id": "BmTr_lXTKNbN"
   },
   "source": [
    "## Создаем нейронную сеть"
   ]
  },
  {
   "cell_type": "markdown",
   "metadata": {
    "id": "fV_igNZuMNXe"
   },
   "source": [
    "**Создаем последовательную модель**"
   ]
  },
  {
   "cell_type": "code",
   "execution_count": null,
   "metadata": {
    "id": "kYVSvpNIMSnG"
   },
   "outputs": [],
   "source": [
    "# Создаем последовательную модель\n",
    "model = Sequential()\n",
    "# Входной полносвязный слой, 800 нейронов, 784 входа в каждый нейрон\n",
    "model.add(Dense(800, input_dim=784, activation=\"relu\"))\n",
    "# Выходной полносвязный слой, 10 нейронов (по количеству рукописных цифр)\n",
    "model.add(Dense(10, activation=\"softmax\"))"
   ]
  },
  {
   "cell_type": "markdown",
   "metadata": {
    "id": "G__m76T-KWhd"
   },
   "source": [
    "**Компилируем сеть**"
   ]
  },
  {
   "cell_type": "code",
   "execution_count": null,
   "metadata": {
    "id": "PTcbSxchKZjd"
   },
   "outputs": [],
   "source": [
    "# 'categorical_crossentropy' - функция штрафа, кроссэнтропия, которую следует использовать для задач классификации, как у нас, \n",
    "#metrics=['accuracy'] значит, что мы будем вычислять в модели не только функцию штрафа, но и точность работы, то есть, число правильно классифицированных примеров.\n",
    "#optimizer=\"SGD\" Стохастический градиентный спуск (англ. Stochastic gradient descent, SGD)\n",
    "model.compile(loss=\"categorical_crossentropy\", optimizer=\"SGD\", metrics=[\"accuracy\"]) \n",
    "\n",
    "print(model.summary())"
   ]
  },
  {
   "cell_type": "markdown",
   "metadata": {
    "id": "lspCHiaCKl72"
   },
   "source": [
    "## Обучаем нейронную сеть"
   ]
  },
  {
   "cell_type": "markdown",
   "metadata": {
    "id": "9REofjq-61D-"
   },
   "source": [
    "Это самая ресурсоемкая операция. Мы выполняем обучение \"пачками\" (mini-batch) по batch_size=200 примеров. При этом, осуществляет epochs=100 проходов по всем входным примерам.\n",
    "\n",
    "Другие варианты режима обучения:\n",
    "\n",
    "1) по одному примеру - медленная сходимость, и алгоритм \"не видит\" хороших минимумов,\n",
    "\n",
    "2) по всем примерам сразу - трудоемко, часто сходимость к локальному минимуму и склонность к переобучению.\n",
    "\n",
    "А обработка mini-batch - промежуточный вариант, который называется градиентным стохастическим спуском"
   ]
  },
  {
   "cell_type": "code",
   "execution_count": null,
   "metadata": {
    "id": "H6EIXu1dKoju"
   },
   "outputs": [],
   "source": [
    "history = model.fit(x_train, y_train, \n",
    "                    batch_size=200, \n",
    "                    epochs=100,\n",
    "                    validation_split=0.2, # Доля валидационной выборки для контроля переобучения\n",
    "                    verbose=1) #verbose=0 ничего не покажет, verbose=1 покажет анимированный индикатор выполнения (progress_bar), verbose=2 будет просто указать номер эпохи"
   ]
  },
  {
   "cell_type": "markdown",
   "metadata": {
    "id": "OAsgShYbzKOd"
   },
   "source": [
    "## Сохраняем нейронную сеть для последующего использования"
   ]
  },
  {
   "cell_type": "code",
   "execution_count": null,
   "metadata": {
    "id": "ly7CrIKfzTcg"
   },
   "outputs": [],
   "source": [
    "model.save('mnist_dense.h5')"
   ]
  },
  {
   "cell_type": "markdown",
   "metadata": {
    "id": "p8sPOaFqrz4M"
   },
   "source": [
    "## Оценка качества обучения"
   ]
  },
  {
   "cell_type": "markdown",
   "metadata": {
    "id": "DIl_s4PAr39x"
   },
   "source": [
    "Проверка качества работы на наборе данных для тестирования"
   ]
  },
  {
   "cell_type": "code",
   "execution_count": null,
   "metadata": {
    "id": "4CX6To0sr2zd"
   },
   "outputs": [],
   "source": [
    "scores = model.evaluate(x_test, y_test, verbose=1)"
   ]
  },
  {
   "cell_type": "code",
   "execution_count": null,
   "metadata": {
    "id": "s7iZsuR8scXk"
   },
   "outputs": [],
   "source": [
    "print(\"Доля верных ответов на тестовых данных, в процентах:\", round(scores[1] * 100, 4))"
   ]
  },
  {
   "cell_type": "markdown",
   "metadata": {
    "id": "7vMx5V5QMYlW"
   },
   "source": [
    "## Используем сеть для распознавания предметов одежды"
   ]
  },
  {
   "cell_type": "code",
   "execution_count": null,
   "metadata": {
    "id": "-AGygAcPMd0G"
   },
   "outputs": [],
   "source": [
    "n_rec = 96"
   ]
  },
  {
   "cell_type": "code",
   "execution_count": null,
   "metadata": {
    "id": "TT4Ofqx1WTCq"
   },
   "outputs": [],
   "source": [
    "plt.imshow(x_test[n_rec].reshape(28, 28), cmap=plt.cm.binary)\n",
    "plt.show()"
   ]
  },
  {
   "cell_type": "markdown",
   "metadata": {
    "id": "Lnft8V55M0Rc"
   },
   "source": [
    "**Меняем размерность изображения и нормализуем его**"
   ]
  },
  {
   "cell_type": "code",
   "execution_count": null,
   "metadata": {
    "id": "UKFWqSHtM7Nf"
   },
   "outputs": [],
   "source": [
    "x = x_test[n_rec]\n",
    "x = np.expand_dims(x, axis=0)"
   ]
  },
  {
   "cell_type": "markdown",
   "metadata": {
    "id": "bMruIcf2NHlN"
   },
   "source": [
    "**Запускаем распознавание**"
   ]
  },
  {
   "cell_type": "code",
   "execution_count": null,
   "metadata": {
    "id": "Ap72-9_kNKU2"
   },
   "outputs": [],
   "source": [
    "prediction = model.predict(x)"
   ]
  },
  {
   "cell_type": "markdown",
   "metadata": {
    "id": "2Gldpmn2NQ6-"
   },
   "source": [
    "**Печатаем результаты распознавания**"
   ]
  },
  {
   "cell_type": "code",
   "execution_count": null,
   "metadata": {
    "id": "P7opRiSZNUku"
   },
   "outputs": [],
   "source": [
    "prediction"
   ]
  },
  {
   "cell_type": "markdown",
   "metadata": {
    "id": "LQTiyEM3NfRG"
   },
   "source": [
    "**Преобразуем результаты из формата one hot encoding**"
   ]
  },
  {
   "cell_type": "code",
   "execution_count": null,
   "metadata": {
    "id": "XVC_dTGqNohG"
   },
   "outputs": [],
   "source": [
    "prediction = np.argmax(prediction[0])\n",
    "print(\"Номер класса:\", prediction)\n",
    "print(\"Название класса:\", classes[prediction])\n"
   ]
  },
  {
   "cell_type": "markdown",
   "metadata": {
    "id": "zJy8tKjuNyD2"
   },
   "source": [
    "**Печатаем правильный ответ**"
   ]
  },
  {
   "cell_type": "code",
   "execution_count": null,
   "metadata": {
    "id": "0zoGlCZWN2Id"
   },
   "outputs": [],
   "source": [
    "label = np.argmax(y_test[n_rec])\n",
    "print(\"Номер класса:\", label)\n",
    "print(\"Название класса:\", classes[label])"
   ]
  },
  {
   "cell_type": "markdown",
   "metadata": {
    "id": "uFyI8beELi39"
   },
   "source": [
    "## Загружаем свою картинку"
   ]
  },
  {
   "cell_type": "markdown",
   "metadata": {
    "id": "F8HQI_X5MUms"
   },
   "source": [
    "Загружаем картинку из файла"
   ]
  },
  {
   "cell_type": "code",
   "execution_count": null,
   "metadata": {
    "id": "Zfi4L4iYMTLE"
   },
   "outputs": [],
   "source": [
    "img_path = '0.jpg'\n",
    "img = image.load_img(img_path, target_size=(28, 28), color_mode = \"grayscale\")"
   ]
  },
  {
   "cell_type": "markdown",
   "metadata": {
    "id": "c2yCw9y1QSL1"
   },
   "source": [
    "Показываем картинку"
   ]
  },
  {
   "cell_type": "code",
   "execution_count": null,
   "metadata": {
    "id": "BNW4bWUYP8Rt"
   },
   "outputs": [],
   "source": [
    "plt.imshow(img.convert('RGBA'))\n",
    "plt.show()"
   ]
  },
  {
   "cell_type": "markdown",
   "metadata": {
    "id": "2fHqp8KbOsJd"
   },
   "source": [
    "Преобразуем картинку для обработки нейронной сетью"
   ]
  },
  {
   "cell_type": "code",
   "execution_count": null,
   "metadata": {
    "id": "0xsuR1vDNihN"
   },
   "outputs": [],
   "source": [
    "# Преобразуем картинку в массив\n",
    "x = image.img_to_array(img)\n",
    "# Меняем форму массива в плоский вектор\n",
    "x = x.reshape(1, 784)\n",
    "# Инвертируем изображение\n",
    "x = 255 - x\n",
    "# Нормализуем изображение\n",
    "x /= 255"
   ]
  },
  {
   "cell_type": "markdown",
   "metadata": {
    "id": "OYpe-m2bNR-8"
   },
   "source": [
    "Запускаем распознавание"
   ]
  },
  {
   "cell_type": "code",
   "execution_count": null,
   "metadata": {
    "id": "jTUbtYAPNI60"
   },
   "outputs": [],
   "source": [
    "prediction = model.predict(x)"
   ]
  },
  {
   "cell_type": "markdown",
   "metadata": {
    "id": "gdDM5wzcRRql"
   },
   "source": [
    "Результаты распознавания"
   ]
  },
  {
   "cell_type": "code",
   "execution_count": null,
   "metadata": {
    "id": "4qbu45hIMQvk"
   },
   "outputs": [],
   "source": [
    "prediction"
   ]
  },
  {
   "cell_type": "code",
   "execution_count": null,
   "metadata": {
    "id": "iOwGOz41PNsV"
   },
   "outputs": [],
   "source": [
    "prediction = np.argmax(prediction)\n",
    "print(\"Номер класса:\", prediction)\n",
    "print(\"Название класса:\", classes[prediction])"
   ]
  },
  {
   "cell_type": "markdown",
   "metadata": {
    "id": "kqee4iO3CiZm"
   },
   "source": [
    "## Идеи по изменению архитектуры нейронной сети\n",
    "\n",
    "1. Попробуйте использовать разное количество нейронов на входном слое: 400, 600, 800, 1200.\n",
    "2. Добавьте в нейронную сеть скрытый слой с разным количеством нейронов: 200, 300, 400, 600, 800.\n",
    "3. Добавьте несколько скрытых слоев в сеть с разным количеством нейронов в каждом слое.\n",
    "3. Используйте разное количество эпох: 10, 15, 20, 25, 30.\n",
    "4. Используйте разные размеры мини-выборки (batch_size): 10, 50, 100, 200, 500.\n",
    " \n",
    "\n",
    "Подберите разные комбинации гиперпараметров таким образом, чтобы получить лучший результат на тестовом наборе данных."
   ]
  },
  {
   "cell_type": "markdown",
   "metadata": {
    "id": "RDvT2C0j9Hto"
   },
   "source": [
    "#Как выбрать функцию активации?\n"
   ]
  },
  {
   "cell_type": "markdown",
   "metadata": {
    "id": "G_6LbdvC9HWx"
   },
   "source": [
    "Наименования функция активации можно взять здесь https://keras.io/api/layers/activations/. Настало время решить, какую из функций активации использовать. Следует ли для каждого случая использовать ReLu? Или сигмоиду (sigmoid)? Или гиперболический тангенс (tanh)? На эти вопросы нельзя дать однозначного ответа. Когда вы знаете некоторые характеристики функции, которую пытаетесь аппроксимировать, выбирайте активационную функцию, которая аппроксимирует искомую функцию лучше и ведет к более быстрому обучению.\n",
    "\n",
    "Если вы не знаете природу исследуемой функции, в таком случае начните с ReLu и потом работайте в обратном направлении. В большинстве случаев ReLu работает как хороший аппроксиматор."
   ]
  }
 ],
 "metadata": {
  "accelerator": "GPU",
  "colab": {
   "collapsed_sections": [],
   "name": "fashion_mnist_prevent_overfitting.ipynb",
   "provenance": []
  },
  "kernelspec": {
   "display_name": "Python 3",
   "language": "python",
   "name": "python3"
  },
  "language_info": {
   "codemirror_mode": {
    "name": "ipython",
    "version": 3
   },
   "file_extension": ".py",
   "mimetype": "text/x-python",
   "name": "python",
   "nbconvert_exporter": "python",
   "pygments_lexer": "ipython3",
   "version": "3.8.6"
  }
 },
 "nbformat": 4,
 "nbformat_minor": 1
}
